{
  "cells": [
    {
      "cell_type": "markdown",
      "metadata": {
        "id": "view-in-github",
        "colab_type": "text"
      },
      "source": [
        "<a href=\"https://colab.research.google.com/github/upranetukana/Data-Science-Internship-Basics/blob/main/pandas_basics_py.ipynb\" target=\"_parent\"><img src=\"https://colab.research.google.com/assets/colab-badge.svg\" alt=\"Open In Colab\"/></a>"
      ]
    },
    {
      "cell_type": "code",
      "source": [
        "import pandas as pd\n",
        "\n",
        "data = {\n",
        "    'Name': ['Abi', 'Ram', 'Sai', 'Dhoni', 'Sachin' , 'Rohith'],\n",
        "    'Age': [25, 33, 21, 42, 48 ,35],\n",
        "    'Score': [82, 80, 77, 77, 100, 98]\n",
        "}\n",
        "df = pd.DataFrame(data)\n",
        "df.to_csv('sample_data.csv', index=False)\n",
        "\n",
        "print(\"Sample CSV file created successfully!\")\n"
      ],
      "metadata": {
        "id": "adSWv9-K3Xxi",
        "outputId": "1c3c6328-425d-44f2-8d9f-39f16a9943ad",
        "colab": {
          "base_uri": "https://localhost:8080/"
        }
      },
      "execution_count": 13,
      "outputs": [
        {
          "output_type": "stream",
          "name": "stdout",
          "text": [
            "Sample CSV file created successfully!\n"
          ]
        }
      ]
    },
    {
      "cell_type": "code",
      "source": [
        "# Read the sample CSV file\n",
        "df = pd.read_csv('sample_data.csv')\n",
        "\n",
        "# Print the first five rows of the dataset\n",
        "print(\"First Five Rows:\")\n",
        "print(df.head())\n",
        "\n",
        "# Display basic statistics of the dataset\n",
        "print(\"\\nBasic Statistics:\")\n",
        "print(df.describe())\n"
      ],
      "metadata": {
        "id": "jnmYZoVZ3_r5",
        "outputId": "14f2f6be-d027-45fa-80b5-324e90d20fa8",
        "colab": {
          "base_uri": "https://localhost:8080/"
        }
      },
      "execution_count": 14,
      "outputs": [
        {
          "output_type": "stream",
          "name": "stdout",
          "text": [
            "First Five Rows:\n",
            "     Name  Age  Score\n",
            "0     Abi   25     82\n",
            "1     Ram   33     80\n",
            "2     Sai   21     77\n",
            "3   Dhoni   42     77\n",
            "4  Sachin   48    100\n",
            "\n",
            "Basic Statistics:\n",
            "             Age       Score\n",
            "count   6.000000    6.000000\n",
            "mean   34.000000   85.666667\n",
            "std    10.119289   10.519823\n",
            "min    21.000000   77.000000\n",
            "25%    27.000000   77.750000\n",
            "50%    34.000000   81.000000\n",
            "75%    40.250000   94.000000\n",
            "max    48.000000  100.000000\n"
          ]
        }
      ]
    }
  ],
  "metadata": {
    "colab": {
      "name": "Welcome To Colab",
      "toc_visible": true,
      "provenance": [],
      "include_colab_link": true
    },
    "kernelspec": {
      "display_name": "Python 3",
      "name": "python3"
    }
  },
  "nbformat": 4,
  "nbformat_minor": 0
}