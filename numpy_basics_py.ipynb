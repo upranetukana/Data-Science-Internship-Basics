{
  "cells": [
    {
      "cell_type": "markdown",
      "metadata": {
        "id": "view-in-github",
        "colab_type": "text"
      },
      "source": [
        "<a href=\"https://colab.research.google.com/github/upranetukana/Data-Science-Internship-Basics/blob/main/numpy_basics_py.ipynb\" target=\"_parent\"><img src=\"https://colab.research.google.com/assets/colab-badge.svg\" alt=\"Open In Colab\"/></a>"
      ]
    },
    {
      "cell_type": "code",
      "source": [
        "import numpy as np\n",
        "\n",
        "returnandom_array = np.random.randint(0, 100, size=20)\n",
        "\n",
        "print(\"Random NumPy Array:\", random_array)\n",
        "\n",
        "print(\"Sum:\", np.sum(random_array))\n",
        "print(\"Mean:\", np.mean(random_array))\n",
        "print(\"Max:\", np.max(random_array))\n",
        "print(\"Min:\", np.min(random_array))"
      ],
      "metadata": {
        "id": "4AGU0aEq2-ZF",
        "outputId": "3a45d1fd-6e5f-4526-b13a-3f770dc8051b",
        "colab": {
          "base_uri": "https://localhost:8080/"
        }
      },
      "execution_count": 12,
      "outputs": [
        {
          "output_type": "stream",
          "name": "stdout",
          "text": [
            "Random NumPy Array: [ 9  6 30 53 69  5 15 58 71 65 68 32 34 72 25 28 10  4 82  0]\n",
            "Sum: 736\n",
            "Mean: 36.8\n",
            "Max: 82\n",
            "Min: 0\n"
          ]
        }
      ]
    }
  ],
  "metadata": {
    "colab": {
      "name": "Welcome To Colab",
      "toc_visible": true,
      "provenance": [],
      "include_colab_link": true
    },
    "kernelspec": {
      "display_name": "Python 3",
      "name": "python3"
    }
  },
  "nbformat": 4,
  "nbformat_minor": 0
}