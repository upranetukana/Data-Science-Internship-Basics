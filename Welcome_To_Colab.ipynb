{
  "cells": [
    {
      "cell_type": "markdown",
      "metadata": {
        "id": "view-in-github",
        "colab_type": "text"
      },
      "source": [
        "<a href=\"https://colab.research.google.com/github/upranetukana/Data-Science-Internship-Basics/blob/main/Welcome_To_Colab.ipynb\" target=\"_parent\"><img src=\"https://colab.research.google.com/assets/colab-badge.svg\" alt=\"Open In Colab\"/></a>"
      ]
    },
    {
      "cell_type": "code",
      "source": [
        "import pandas as pd\n",
        "\n",
        "data = {\n",
        "    'Name': ['Abi', 'Mohan', 'Surander', 'Dravid', 'Rohith'],\n",
        "    'Age': [40, 36, 28, 31, 37],\n",
        "    'Score': [95, 75, 87, 78, 99]\n",
        "}\n",
        "df = pd.DataFrame(data)\n",
        "df.to_csv('sample_data.csv', index=False)\n",
        "\n",
        "print(\"Sample CSV file created successfully!\")"
      ],
      "metadata": {
        "id": "e_NxeBCdySCx",
        "outputId": "b78a1ed4-c70a-4bea-c8c2-314c6476372f",
        "colab": {
          "base_uri": "https://localhost:8080/"
        }
      },
      "execution_count": 6,
      "outputs": [
        {
          "output_type": "stream",
          "name": "stdout",
          "text": [
            "Sample CSV file created successfully!\n"
          ]
        }
      ]
    },
    {
      "cell_type": "code",
      "source": [
        "df = pd.read_csv('sample_data.csv')\n",
        "\n",
        "print(\"First Five Rows:\")\n",
        "print(df.head())\n",
        "\n",
        "print(\"\\nBasic Statistics:\")\n",
        "print(df.describe())\n"
      ],
      "metadata": {
        "id": "u2S945ySzNOt",
        "outputId": "f9e15262-84d5-47c7-ec87-25118e41fc30",
        "colab": {
          "base_uri": "https://localhost:8080/"
        }
      },
      "execution_count": 7,
      "outputs": [
        {
          "output_type": "stream",
          "name": "stdout",
          "text": [
            "First Five Rows:\n",
            "       Name  Age  Score\n",
            "0       Abi   40     95\n",
            "1     Mohan   36     75\n",
            "2  Surander   28     87\n",
            "3    Dravid   31     78\n",
            "4    Rohith   37     99\n",
            "\n",
            "Basic Statistics:\n",
            "             Age      Score\n",
            "count   5.000000   5.000000\n",
            "mean   34.400000  86.800000\n",
            "std     4.827007  10.401923\n",
            "min    28.000000  75.000000\n",
            "25%    31.000000  78.000000\n",
            "50%    36.000000  87.000000\n",
            "75%    37.000000  95.000000\n",
            "max    40.000000  99.000000\n"
          ]
        }
      ]
    }
  ],
  "metadata": {
    "colab": {
      "name": "Welcome To Colab",
      "toc_visible": true,
      "provenance": [],
      "include_colab_link": true
    },
    "kernelspec": {
      "display_name": "Python 3",
      "name": "python3"
    }
  },
  "nbformat": 4,
  "nbformat_minor": 0
}